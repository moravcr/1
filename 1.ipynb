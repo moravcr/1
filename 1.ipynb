{
  "nbformat": 4,
  "nbformat_minor": 0,
  "metadata": {
    "colab": {
      "name": "Untitled3.ipynb",
      "provenance": [],
      "collapsed_sections": []
    },
    "kernelspec": {
      "name": "python3",
      "display_name": "Python 3"
    },
    "language_info": {
      "name": "python"
    }
  },
  "cells": [
    {
      "cell_type": "code",
      "execution_count": null,
      "metadata": {
        "colab": {
          "base_uri": "https://localhost:8080/"
        },
        "id": "74FBCITDcynv",
        "outputId": "d6602e93-c22d-4ac3-93ca-2e020b9c8c1e"
      },
      "outputs": [
        {
          "output_type": "stream",
          "name": "stdout",
          "text": [
            "951.4226919331401\n"
          ]
        }
      ],
      "source": [
        "import numpy as np\n",
        "\n",
        "# массив для мощностей ВЭУ\n",
        "Pwt = np.zeros(24)\n",
        "# массив для мощностей ФЭП\n",
        "Ppc = np.zeros(24)\n",
        "# ометаемая площадь ВЭУ\n",
        "Fwt = 0\n",
        "# площадь ФЭП\n",
        "S = 0\n",
        "# капитальные затраты\n",
        "K = 0\n",
        "# издержка\n",
        "U = 0\n",
        "\n",
        "# сумма нагрузки за определенный год\n",
        "summaPl = np.zeros(10)\n",
        "# сумма B за определенный год\n",
        "summaB = np.zeros(10)\n",
        "# загружаем массивы значений v, I, Pl\n",
        "v = np.load('/tmp/skorostvetra.npy')\n",
        "I = np.load('/tmp/solnechnoeizluchenie.npy')\n",
        "Pl = np.load('/tmp/nagruzka.npy')\n",
        "\n",
        "for r in range(10): # годы\n",
        "  B = np.zeros((365, 24))\n",
        "  for q in range(365): # дни\n",
        "    for j in range(24): # часы\n",
        "      summaPl[r] += Pl[r][q][j]\n",
        "      if (v[r][q][j] >= 0 and v[r][q][j] <= 2.5) or (v[r][q][j] >= 20):\n",
        "        Pwt[j] = 0\n",
        "      else:\n",
        "        # нахождение Рвэу\n",
        "        Pwt[j] = np.power(v[r][q][j], 3) * Fwt * 0.273 / 1000\n",
        "      # нахождение Рфэп\n",
        "      Ppc[j] = I[r][q][j] * S * 0.174 / 1000\n",
        "      summa = Pwt[j] + Ppc[j]\n",
        "      if q == 0 and j == 0:\n",
        "        continue\n",
        "      else:\n",
        "        if summa >= Pl[r][q][j]:\n",
        "          B[q][j] = B[q][j-1]\n",
        "        else:\n",
        "          B[q][j] = B[q][j-1] + 19.6 * Pl[r][q][j]\n",
        "  summaB[r] = np.sum(B)\n",
        "\n",
        "LCOE = np.zeros(10)\n",
        "\n",
        "for i in range(10):\n",
        "  sum1 = 0\n",
        "  sum2 = 0\n",
        "  alpha = 1/np.power(1.12, i)\n",
        "  sum1 = K + U + summaB[i]/np.power((1+alpha), i)\n",
        "  sum2 = summaPl[i]/np.power((1+alpha), i)\n",
        "  LCOE[i] = sum1/sum2\n",
        "\n",
        "print(LCOE)\n",
        "\n"
      ]
    }
  ]
}